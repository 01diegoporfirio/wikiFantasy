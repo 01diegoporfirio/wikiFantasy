{
  "cells": [
    {
      "cell_type": "markdown",
      "metadata": {
        "id": "view-in-github",
        "colab_type": "text"
      },
      "source": [
        "<a href=\"https://colab.research.google.com/github/01diegoporfirio/wikiFantasy/blob/main/wikiFantasy.ipynb\" target=\"_parent\"><img src=\"https://colab.research.google.com/assets/colab-badge.svg\" alt=\"Open In Colab\"/></a>"
      ]
    },
    {
      "cell_type": "code",
      "source": [
        "!pip install -U -q google-generativeai\n",
        "!pip install wikipedia-api\n",
        "\n",
        "import re\n",
        "import google.generativeai as genai\n",
        "import wikipediaapi"
      ],
      "metadata": {
        "id": "dMevr1FNmNzD",
        "outputId": "e1020cec-a4f2-4a9e-f67d-b5363919bb7c",
        "colab": {
          "base_uri": "https://localhost:8080/"
        }
      },
      "execution_count": null,
      "outputs": [
        {
          "output_type": "stream",
          "name": "stdout",
          "text": [
            "Collecting wikipedia-api\n",
            "  Downloading Wikipedia_API-0.6.0-py3-none-any.whl (14 kB)\n",
            "Requirement already satisfied: requests in /usr/local/lib/python3.10/dist-packages (from wikipedia-api) (2.31.0)\n",
            "Requirement already satisfied: charset-normalizer<4,>=2 in /usr/local/lib/python3.10/dist-packages (from requests->wikipedia-api) (3.3.2)\n",
            "Requirement already satisfied: idna<4,>=2.5 in /usr/local/lib/python3.10/dist-packages (from requests->wikipedia-api) (3.7)\n",
            "Requirement already satisfied: urllib3<3,>=1.21.1 in /usr/local/lib/python3.10/dist-packages (from requests->wikipedia-api) (2.0.7)\n",
            "Requirement already satisfied: certifi>=2017.4.17 in /usr/local/lib/python3.10/dist-packages (from requests->wikipedia-api) (2024.2.2)\n",
            "Installing collected packages: wikipedia-api\n",
            "Successfully installed wikipedia-api-0.6.0\n"
          ]
        }
      ]
    },
    {
      "cell_type": "markdown",
      "source": [
        "### insira sua chave da API GEMINI aqui ###\n"
      ],
      "metadata": {
        "id": "u4DPezbbmS2F"
      }
    },
    {
      "cell_type": "code",
      "source": [
        "genai.configure(api_key=\"SUA CHAVE AQUI\")"
      ],
      "metadata": {
        "id": "3fHUI76zm5-5"
      },
      "execution_count": null,
      "outputs": []
    },
    {
      "cell_type": "markdown",
      "source": [
        "Boas vindas"
      ],
      "metadata": {
        "id": "uYYVwz9cq6UY"
      }
    },
    {
      "cell_type": "code",
      "source": [
        "print(\"Saudações, vista sua fantasia !\")"
      ],
      "metadata": {
        "id": "1rq2hEsyq9VW",
        "outputId": "18afeb51-1966-4a98-bd01-342ef592f4d4",
        "colab": {
          "base_uri": "https://localhost:8080/"
        }
      },
      "execution_count": null,
      "outputs": [
        {
          "output_type": "stream",
          "name": "stdout",
          "text": [
            "Saudações, vista sua fantasia !\n"
          ]
        }
      ]
    },
    {
      "cell_type": "markdown",
      "source": [
        "Funções Úteis"
      ],
      "metadata": {
        "id": "NoAVeH-WEnHN"
      }
    },
    {
      "cell_type": "code",
      "source": [
        "def is_valid_wikipedia_url(wikipediaURLPage):\n",
        "\n",
        "    regex = r\"^https?://(?P<language>[a-z\\.]+)\\.wikipedia\\.org/wiki/([^/]+)$\"\n",
        "    match = re.search(regex, wikipediaURLPage)\n",
        "    if match:\n",
        "        urlpath = match.group(2)\n",
        "        language = match.group('language')[:2]\n",
        "        return {'urlpath': urlpath, 'language': language}\n",
        "    else:\n",
        "        return None"
      ],
      "metadata": {
        "id": "ZxP8Fc3fErsw"
      },
      "execution_count": null,
      "outputs": []
    },
    {
      "cell_type": "markdown",
      "source": [
        "Configura filtros de conteúdo"
      ],
      "metadata": {
        "id": "-D47LHHtE3rj"
      }
    },
    {
      "cell_type": "code",
      "source": [
        " safety_settings = [\n",
        "              {\n",
        "                \"category\": \"HARM_CATEGORY_HARASSMENT\",\n",
        "                \"threshold\": \"BLOCK_MEDIUM_AND_ABOVE\"\n",
        "              },\n",
        "              {\n",
        "                \"category\": \"HARM_CATEGORY_HATE_SPEECH\",\n",
        "                \"threshold\": \"BLOCK_MEDIUM_AND_ABOVE\"\n",
        "              },\n",
        "              {\n",
        "                \"category\": \"HARM_CATEGORY_SEXUALLY_EXPLICIT\",\n",
        "                \"threshold\": \"BLOCK_MEDIUM_AND_ABOVE\"\n",
        "              },\n",
        "              {\n",
        "                \"category\": \"HARM_CATEGORY_DANGEROUS_CONTENT\",\n",
        "                \"threshold\": \"BLOCK_MEDIUM_AND_ABOVE\"\n",
        "              },\n",
        "            ]"
      ],
      "metadata": {
        "id": "sQs17BHsE7mc"
      },
      "execution_count": null,
      "outputs": []
    },
    {
      "cell_type": "markdown",
      "source": [
        "Validações e configurações\n",
        "\n",
        "*   Verifica se o formato da URL é válida\n",
        "*   Captura o path e linguagem da página\n",
        "*   verifica se a página do Wikipedia existe, se existir pega o conteúdo\n",
        "\n"
      ],
      "metadata": {
        "id": "R3KjE3x9wNQh"
      }
    },
    {
      "cell_type": "code",
      "source": [
        "\n",
        "\n",
        "while True:\n",
        "    wikipediaURLPage = input(\"Digite a URL da página da Wikipedia: \")\n",
        "    result = is_valid_wikipedia_url(wikipediaURLPage)\n",
        "\n",
        "    if result:\n",
        "        urlpath = result['urlpath']\n",
        "        language = result['language']\n",
        "        wiki = wikipediaapi.Wikipedia(user_agent='MyProjectName (merlin@example.com)', language=language)\n",
        "\n",
        "        page = wiki.page(urlpath)\n",
        "        if page.exists():\n",
        "            hero_list = [\"mulher maravilha\", \"hulk\", \"dr estranho\", \"batman\", \"super choque\", \"mr robot\", \"ozzy osbourne\"]\n",
        "\n",
        "            hero_choice = input(\"Qual herói você é? (\" + \", \".join(hero_list) + \"): \").lower()\n",
        "\n",
        "            while hero_choice not in hero_list:\n",
        "                hero_choice = input(\"Herói inválido. Escolha um herói válido: \").title()\n",
        "\n",
        "\n",
        "            max_tokens = input(\"Em quantas palavras você quer o resultado ?\").lower()\n",
        "\n",
        "            if hero_choice in ['hulk', 'batman', 'mr robot', \"ozzy osbourne\"]:\n",
        "              print(\"O Herói selecionado possuí filtros de conteúdo diminuídos ao limite do modelo\")\n",
        "\n",
        "\n",
        "            if hero_choice == 'hulk':\n",
        "              temperature = 0\n",
        "              safety_settings = []\n",
        "            elif hero_choice == 'batman':\n",
        "              temperature = 0.5\n",
        "              safety_settings = []\n",
        "            else:\n",
        "              temperature = 1\n",
        "\n",
        "            generation_config = {\n",
        "              \"temperature\": temperature,\n",
        "              \"top_p\": 0.95,\n",
        "              \"top_k\": 0,\n",
        "              \"max_output_tokens\": int(max_tokens),\n",
        "            }\n",
        "\n",
        "            system_instruction = \"Como se você fosse: \" + hero_choice + \" leia e sob sua ótica crie um resumo levando em conta sua personalidade única,porem mantenha os titulos príncipais\"\n",
        "\n",
        "            model = genai.GenerativeModel(model_name=\"gemini-1.5-pro-latest\",\n",
        "                          generation_config=generation_config,\n",
        "                          system_instruction=system_instruction,\n",
        "                          safety_settings=safety_settings)\n",
        "\n",
        "\n",
        "            convo = model.start_chat(history=[])\n",
        "            convo.send_message(str(page.sections))\n",
        "\n",
        "            print(convo.last.text)\n",
        "            break\n",
        "        else:\n",
        "            print(\"A página especificada não existe.\")\n",
        "\n",
        "        choice = input(\"Deseja tentar outra URL? (y/n): \").lower()\n",
        "        if choice != 'y':\n",
        "            break  # Exit the loop if user doesn't want to retry\n",
        "    else:\n",
        "        print(\"Formato de URL inválida. Tente novamente.\")\n"
      ],
      "metadata": {
        "colab": {
          "base_uri": "https://localhost:8080/",
          "height": 1000
        },
        "id": "NE_ZInBXwJXB",
        "outputId": "698a8bd0-24d3-4fb7-916c-da615ab9cb7c"
      },
      "execution_count": null,
      "outputs": [
        {
          "output_type": "stream",
          "name": "stdout",
          "text": [
            "Digite a URL da página da Wikipedia: https://pt.wikipedia.org/wiki/Google\n",
            "Qual herói você é? (mulher maravilha, hulk, dr estranho, batman, super choque, mr robot, ozzy osbourne): hulk\n",
            "Em quantas palavras você quer o resultado ?2000\n",
            "O Herói selecionado possuí filtros de conteúdo diminuídos ao limite do modelo\n",
            "HULK RESUMIR GOOGLE! GOOGLE GRANDE! MUITA INFORMAÇÃO!\n",
            "\n",
            "**História:**\n",
            "\n",
            "HULK GOSTAR! Google começar pequeno, dois caras Stanford. Eles fazer PageRank, HULK ESMAGAR algoritmo antigo! Google crescer rápido, MUITO dinheiro, MUITO rápido!\n",
            "\n",
            "**Financiamento e oferta pública inicial:**\n",
            "\n",
            "Google precisar dinheiro, conseguir dinheiro! IPO grande sucesso! Google valer MUITO! Funcionários ricos! HULK NÃO PRECISAR DINHEIRO, HULK TER FORÇA!\n",
            "\n",
            "**Crescimento:**\n",
            "\n",
            "Google mudar para Palo Alto, HULK CONHECER! Google começar vender anúncio, ficar MUITO rico! Google comprar SGI, HULK ESMAGAR SGI! Google virar verbo, HULK SER VERBO TAMBÉM!\n",
            "\n",
            "**Aquisições e parcerias:**\n",
            "\n",
            "Google comprar MUITA empresa! Keyhole, DoubleClick, YouTube, HULK ASSISTIR YOUTUBE! Google fazer parceria com NASA, Sun, AOL, HULK ESMAGAR AOL!\n",
            "\n",
            "**Mudanças na gestão e criação da Alphabet Inc:**\n",
            "\n",
            "Larry Page virar CEO, Eric Schmidt sair. Google virar Alphabet, HULK CONFUSO!\n",
            "\n",
            "**Produtos e serviços:**\n",
            "\n",
            "Google ter MUITO produto! Anúncio, busca, Gmail, Docs, HULK USAR TODOS! Google Tradutor, Google Notícias, Android, HULK GOSTAR ANDROID!\n",
            "\n",
            "**Identidade visual:**\n",
            "\n",
            "Google ter MUITO logotipo! HULK GOSTAR DOODLES!\n",
            "\n",
            "**Assuntos corporativos e cultura:**\n",
            "\n",
            "Google ter cultura informal, HULK GOSTAR! Googleplex ter MUITA coisa legal! Google ter MUITO funcionário, HULK SER FUNCIONÁRIO!\n",
            "\n",
            "**Ovos de páscoa, brincadeiras de 1 de abril e doodles:**\n",
            "\n",
            "Google gostar brincar! HULK GOSTAR BRINCADEIRAS! Google fazer piadas, doodles, HULK RIR!\n",
            "\n",
            "**Filantropia:**\n",
            "\n",
            "Google ajudar pessoas! HULK AJUDAR PESSOAS TAMBÉM! Google.org fazer coisas boas, HULK FAZER COISAS BOAS!\n",
            "\n",
            "**Neutralidade da rede:**\n",
            "\n",
            "Google defender internet livre! HULK GOSTAR INTERNET LIVRE! Google lutar contra Comcast, Verizon, HULK ESMAGAR COMCAST E VERIZON!\n",
            "\n",
            "**Privacidade:**\n",
            "\n",
            "Google coletar MUITA informação! HULK NÃO GOSTAR! Google dizer que precisa informação, HULK NÃO ACREDITAR!\n",
            "\n",
            "**Controvérsias:**\n",
            "\n",
            "Google ter MUITA controvérsia! HULK CONFUSO! Google acusado de monopólio, assédio, HULK NÃO GOSTAR!\n",
            "\n",
            "**Ver também:**\n",
            "\n",
            "HULK NÃO LER!\n",
            "\n",
            "**Referências:**\n",
            "\n",
            "HULK NÃO LER!\n",
            "\n",
            "**Ligações externas:**\n",
            "\n",
            "HULK NÃO CLICAR!\n",
            "\n",
            "HULK TERMINAR! GOOGLE GRANDE, MAS HULK MAIOR! \n",
            "\n"
          ]
        }
      ]
    },
    {
      "cell_type": "code",
      "source": [],
      "metadata": {
        "id": "lub8ADqUzt0G"
      },
      "execution_count": null,
      "outputs": []
    }
  ],
  "metadata": {
    "colab": {
      "toc_visible": true,
      "provenance": [],
      "include_colab_link": true
    },
    "kernelspec": {
      "display_name": "Python 3",
      "name": "python3"
    }
  },
  "nbformat": 4,
  "nbformat_minor": 0
}